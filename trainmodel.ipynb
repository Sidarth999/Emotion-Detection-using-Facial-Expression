{
 "cells": [
  {
   "cell_type": "code",
   "execution_count": 1,
   "id": "19ce7749",
   "metadata": {},
   "outputs": [],
   "source": [
    "from keras.utils import to_categorical\n",
    "from keras_preprocessing.image import load_img\n",
    "from keras.models import Sequential\n",
    "from keras.layers import Dense, Conv2D, Dropout, Flatten, MaxPooling2D\n",
    "import os\n",
    "import pandas as pd\n",
    "import numpy as np"
   ]
  },
  {
   "cell_type": "code",
   "execution_count": 2,
   "id": "02e9c221",
   "metadata": {},
   "outputs": [],
   "source": [
    "TRAIN_DIR = 'images/train'\n",
    "TEST_DIR = 'images/test'"
   ]
  },
  {
   "cell_type": "code",
   "execution_count": 3,
   "id": "ede9c1f1",
   "metadata": {},
   "outputs": [],
   "source": [
    "def createdataframe(dir):\n",
    "    image_paths = []\n",
    "    labels = []\n",
    "    for label in os.listdir(dir):\n",
    "        for imagename in os.listdir(os.path.join(dir,label)):\n",
    "            image_paths.append(os.path.join(dir,label,imagename))\n",
    "            labels.append(label)\n",
    "        print(label, \"completed\")\n",
    "    return image_paths,labels\n"
   ]
  },
  {
   "cell_type": "code",
   "execution_count": 4,
   "id": "a3a8f1a9",
   "metadata": {},
   "outputs": [
    {
     "name": "stdout",
     "output_type": "stream",
     "text": [
      "angry completed\n",
      "disgust completed\n",
      "fear completed\n",
      "happy completed\n",
      "neutral completed\n",
      "sad completed\n",
      "surprise completed\n"
     ]
    }
   ],
   "source": [
    "train = pd.DataFrame()\n",
    "train['image'], train['label'] = createdataframe(TRAIN_DIR)"
   ]
  },
  {
   "cell_type": "code",
   "execution_count": 5,
   "id": "c8a0cd29",
   "metadata": {},
   "outputs": [
    {
     "name": "stdout",
     "output_type": "stream",
     "text": [
      "                                image     label\n",
      "0            images/train\\angry\\0.jpg     angry\n",
      "1            images/train\\angry\\1.jpg     angry\n",
      "2           images/train\\angry\\10.jpg     angry\n",
      "3        images/train\\angry\\10002.jpg     angry\n",
      "4        images/train\\angry\\10016.jpg     angry\n",
      "...                               ...       ...\n",
      "28816  images/train\\surprise\\9969.jpg  surprise\n",
      "28817  images/train\\surprise\\9985.jpg  surprise\n",
      "28818  images/train\\surprise\\9990.jpg  surprise\n",
      "28819  images/train\\surprise\\9992.jpg  surprise\n",
      "28820  images/train\\surprise\\9996.jpg  surprise\n",
      "\n",
      "[28821 rows x 2 columns]\n"
     ]
    }
   ],
   "source": [
    "print(train)"
   ]
  },
  {
   "cell_type": "code",
   "execution_count": 6,
   "id": "7f9688fc",
   "metadata": {},
   "outputs": [
    {
     "name": "stdout",
     "output_type": "stream",
     "text": [
      "angry completed\n",
      "disgust completed\n",
      "fear completed\n",
      "happy completed\n",
      "neutral completed\n",
      "sad completed\n",
      "surprise completed\n"
     ]
    }
   ],
   "source": [
    "test = pd.DataFrame()\n",
    "test['image'], test['label'] = createdataframe(TEST_DIR)"
   ]
  },
  {
   "cell_type": "code",
   "execution_count": 7,
   "id": "7f504f5d",
   "metadata": {},
   "outputs": [
    {
     "name": "stdout",
     "output_type": "stream",
     "text": [
      "                              image     label\n",
      "0       images/test\\angry\\10052.jpg     angry\n",
      "1       images/test\\angry\\10065.jpg     angry\n",
      "2       images/test\\angry\\10079.jpg     angry\n",
      "3       images/test\\angry\\10095.jpg     angry\n",
      "4       images/test\\angry\\10121.jpg     angry\n",
      "...                             ...       ...\n",
      "7061  images/test\\surprise\\9806.jpg  surprise\n",
      "7062  images/test\\surprise\\9830.jpg  surprise\n",
      "7063  images/test\\surprise\\9853.jpg  surprise\n",
      "7064  images/test\\surprise\\9878.jpg  surprise\n",
      "7065   images/test\\surprise\\993.jpg  surprise\n",
      "\n",
      "[7066 rows x 2 columns]\n",
      "0         images/test\\angry\\10052.jpg\n",
      "1         images/test\\angry\\10065.jpg\n",
      "2         images/test\\angry\\10079.jpg\n",
      "3         images/test\\angry\\10095.jpg\n",
      "4         images/test\\angry\\10121.jpg\n",
      "                    ...              \n",
      "7061    images/test\\surprise\\9806.jpg\n",
      "7062    images/test\\surprise\\9830.jpg\n",
      "7063    images/test\\surprise\\9853.jpg\n",
      "7064    images/test\\surprise\\9878.jpg\n",
      "7065     images/test\\surprise\\993.jpg\n",
      "Name: image, Length: 7066, dtype: object\n"
     ]
    }
   ],
   "source": [
    "print(test)\n",
    "print(test['image'])"
   ]
  },
  {
   "cell_type": "code",
   "execution_count": 8,
   "id": "693324b0",
   "metadata": {},
   "outputs": [],
   "source": [
    "from tqdm.notebook import tqdm"
   ]
  },
  {
   "cell_type": "code",
   "execution_count": 9,
   "id": "f52ccbbe",
   "metadata": {},
   "outputs": [],
   "source": [
    "def extract_features(images):\n",
    "    features = []\n",
    "    for image in tqdm(images):\n",
    "        img = load_img(image,grayscale =  True )\n",
    "        img = np.array(img)\n",
    "        features.append(img)\n",
    "    features = np.array(features)\n",
    "    features = features.reshape(len(features),48,48,1)\n",
    "    return features"
   ]
  },
  {
   "cell_type": "code",
   "execution_count": 10,
   "id": "942a9d40",
   "metadata": {},
   "outputs": [
    {
     "data": {
      "application/vnd.jupyter.widget-view+json": {
       "model_id": "6c9bc6f1efe442438ebb0fe70742965c",
       "version_major": 2,
       "version_minor": 0
      },
      "text/plain": [
       "  0%|          | 0/28821 [00:00<?, ?it/s]"
      ]
     },
     "metadata": {},
     "output_type": "display_data"
    },
    {
     "name": "stderr",
     "output_type": "stream",
     "text": [
      "c:\\Users\\NIT\\AppData\\Local\\Programs\\Python\\Python311\\Lib\\site-packages\\keras_preprocessing\\image\\utils.py:107: UserWarning: grayscale is deprecated. Please use color_mode = \"grayscale\"\n",
      "  warnings.warn('grayscale is deprecated. Please use '\n"
     ]
    }
   ],
   "source": [
    "train_features = extract_features(train['image']) "
   ]
  },
  {
   "cell_type": "code",
   "execution_count": 11,
   "id": "c1b294ed",
   "metadata": {},
   "outputs": [
    {
     "data": {
      "application/vnd.jupyter.widget-view+json": {
       "model_id": "1bc69d2cceec47aca895428b8a80198b",
       "version_major": 2,
       "version_minor": 0
      },
      "text/plain": [
       "  0%|          | 0/7066 [00:00<?, ?it/s]"
      ]
     },
     "metadata": {},
     "output_type": "display_data"
    }
   ],
   "source": [
    "test_features = extract_features(test['image'])"
   ]
  },
  {
   "cell_type": "code",
   "execution_count": 12,
   "id": "f78b5d34",
   "metadata": {},
   "outputs": [],
   "source": [
    "x_train = train_features/255.0\n",
    "x_test = test_features/255.0"
   ]
  },
  {
   "cell_type": "code",
   "execution_count": 13,
   "id": "c660fca1",
   "metadata": {},
   "outputs": [],
   "source": [
    "from sklearn.preprocessing import LabelEncoder"
   ]
  },
  {
   "cell_type": "code",
   "execution_count": 14,
   "id": "5384a25b",
   "metadata": {},
   "outputs": [
    {
     "data": {
      "text/html": [
       "<style>#sk-container-id-1 {color: black;}#sk-container-id-1 pre{padding: 0;}#sk-container-id-1 div.sk-toggleable {background-color: white;}#sk-container-id-1 label.sk-toggleable__label {cursor: pointer;display: block;width: 100%;margin-bottom: 0;padding: 0.3em;box-sizing: border-box;text-align: center;}#sk-container-id-1 label.sk-toggleable__label-arrow:before {content: \"▸\";float: left;margin-right: 0.25em;color: #696969;}#sk-container-id-1 label.sk-toggleable__label-arrow:hover:before {color: black;}#sk-container-id-1 div.sk-estimator:hover label.sk-toggleable__label-arrow:before {color: black;}#sk-container-id-1 div.sk-toggleable__content {max-height: 0;max-width: 0;overflow: hidden;text-align: left;background-color: #f0f8ff;}#sk-container-id-1 div.sk-toggleable__content pre {margin: 0.2em;color: black;border-radius: 0.25em;background-color: #f0f8ff;}#sk-container-id-1 input.sk-toggleable__control:checked~div.sk-toggleable__content {max-height: 200px;max-width: 100%;overflow: auto;}#sk-container-id-1 input.sk-toggleable__control:checked~label.sk-toggleable__label-arrow:before {content: \"▾\";}#sk-container-id-1 div.sk-estimator input.sk-toggleable__control:checked~label.sk-toggleable__label {background-color: #d4ebff;}#sk-container-id-1 div.sk-label input.sk-toggleable__control:checked~label.sk-toggleable__label {background-color: #d4ebff;}#sk-container-id-1 input.sk-hidden--visually {border: 0;clip: rect(1px 1px 1px 1px);clip: rect(1px, 1px, 1px, 1px);height: 1px;margin: -1px;overflow: hidden;padding: 0;position: absolute;width: 1px;}#sk-container-id-1 div.sk-estimator {font-family: monospace;background-color: #f0f8ff;border: 1px dotted black;border-radius: 0.25em;box-sizing: border-box;margin-bottom: 0.5em;}#sk-container-id-1 div.sk-estimator:hover {background-color: #d4ebff;}#sk-container-id-1 div.sk-parallel-item::after {content: \"\";width: 100%;border-bottom: 1px solid gray;flex-grow: 1;}#sk-container-id-1 div.sk-label:hover label.sk-toggleable__label {background-color: #d4ebff;}#sk-container-id-1 div.sk-serial::before {content: \"\";position: absolute;border-left: 1px solid gray;box-sizing: border-box;top: 0;bottom: 0;left: 50%;z-index: 0;}#sk-container-id-1 div.sk-serial {display: flex;flex-direction: column;align-items: center;background-color: white;padding-right: 0.2em;padding-left: 0.2em;position: relative;}#sk-container-id-1 div.sk-item {position: relative;z-index: 1;}#sk-container-id-1 div.sk-parallel {display: flex;align-items: stretch;justify-content: center;background-color: white;position: relative;}#sk-container-id-1 div.sk-item::before, #sk-container-id-1 div.sk-parallel-item::before {content: \"\";position: absolute;border-left: 1px solid gray;box-sizing: border-box;top: 0;bottom: 0;left: 50%;z-index: -1;}#sk-container-id-1 div.sk-parallel-item {display: flex;flex-direction: column;z-index: 1;position: relative;background-color: white;}#sk-container-id-1 div.sk-parallel-item:first-child::after {align-self: flex-end;width: 50%;}#sk-container-id-1 div.sk-parallel-item:last-child::after {align-self: flex-start;width: 50%;}#sk-container-id-1 div.sk-parallel-item:only-child::after {width: 0;}#sk-container-id-1 div.sk-dashed-wrapped {border: 1px dashed gray;margin: 0 0.4em 0.5em 0.4em;box-sizing: border-box;padding-bottom: 0.4em;background-color: white;}#sk-container-id-1 div.sk-label label {font-family: monospace;font-weight: bold;display: inline-block;line-height: 1.2em;}#sk-container-id-1 div.sk-label-container {text-align: center;}#sk-container-id-1 div.sk-container {/* jupyter's `normalize.less` sets `[hidden] { display: none; }` but bootstrap.min.css set `[hidden] { display: none !important; }` so we also need the `!important` here to be able to override the default hidden behavior on the sphinx rendered scikit-learn.org. See: https://github.com/scikit-learn/scikit-learn/issues/21755 */display: inline-block !important;position: relative;}#sk-container-id-1 div.sk-text-repr-fallback {display: none;}</style><div id=\"sk-container-id-1\" class=\"sk-top-container\"><div class=\"sk-text-repr-fallback\"><pre>LabelEncoder()</pre><b>In a Jupyter environment, please rerun this cell to show the HTML representation or trust the notebook. <br />On GitHub, the HTML representation is unable to render, please try loading this page with nbviewer.org.</b></div><div class=\"sk-container\" hidden><div class=\"sk-item\"><div class=\"sk-estimator sk-toggleable\"><input class=\"sk-toggleable__control sk-hidden--visually\" id=\"sk-estimator-id-1\" type=\"checkbox\" checked><label for=\"sk-estimator-id-1\" class=\"sk-toggleable__label sk-toggleable__label-arrow\">LabelEncoder</label><div class=\"sk-toggleable__content\"><pre>LabelEncoder()</pre></div></div></div></div></div>"
      ],
      "text/plain": [
       "LabelEncoder()"
      ]
     },
     "execution_count": 14,
     "metadata": {},
     "output_type": "execute_result"
    }
   ],
   "source": [
    "le = LabelEncoder()\n",
    "le.fit(train['label'])"
   ]
  },
  {
   "cell_type": "code",
   "execution_count": 15,
   "id": "50ece229",
   "metadata": {},
   "outputs": [],
   "source": [
    "y_train = le.transform(train['label'])\n",
    "y_test = le.transform(test['label'])"
   ]
  },
  {
   "cell_type": "code",
   "execution_count": 16,
   "id": "5e284299",
   "metadata": {},
   "outputs": [],
   "source": [
    "y_train = to_categorical(y_train,num_classes = 7)\n",
    "y_test = to_categorical(y_test,num_classes = 7)"
   ]
  },
  {
   "cell_type": "code",
   "execution_count": 17,
   "id": "3977223a",
   "metadata": {},
   "outputs": [],
   "source": [
    "model = Sequential()\n",
    "# convolutional layers\n",
    "model.add(Conv2D(128, kernel_size=(3,3), activation='relu', input_shape=(48,48,1)))\n",
    "model.add(MaxPooling2D(pool_size=(2,2)))\n",
    "model.add(Dropout(0.4))\n",
    "\n",
    "model.add(Conv2D(256, kernel_size=(3,3), activation='relu'))\n",
    "model.add(MaxPooling2D(pool_size=(2,2)))\n",
    "model.add(Dropout(0.4))\n",
    "\n",
    "model.add(Conv2D(512, kernel_size=(3,3), activation='relu'))\n",
    "model.add(MaxPooling2D(pool_size=(2,2)))\n",
    "model.add(Dropout(0.4))\n",
    "\n",
    "model.add(Flatten())\n",
    "# fully connected layers\n",
    "model.add(Dense(512, activation='relu'))\n",
    "model.add(Dropout(0.4))\n",
    "model.add(Dense(256, activation='relu'))\n",
    "model.add(Dropout(0.3))\n",
    "# output layer\n",
    "model.add(Dense(7, activation='softmax'))"
   ]
  },
  {
   "cell_type": "code",
   "execution_count": 18,
   "id": "de986d6e",
   "metadata": {},
   "outputs": [],
   "source": [
    "model.compile(optimizer = 'adam', loss = 'categorical_crossentropy', metrics = 'accuracy' )"
   ]
  },
  {
   "cell_type": "code",
   "execution_count": 19,
   "id": "5cd0b130",
   "metadata": {},
   "outputs": [
    {
     "name": "stdout",
     "output_type": "stream",
     "text": [
      "Epoch 1/100\n",
      "226/226 [==============================] - 425s 2s/step - loss: 1.8070 - accuracy: 0.2479 - val_loss: 1.7038 - val_accuracy: 0.3169\n",
      "Epoch 2/100\n",
      "226/226 [==============================] - 426s 2s/step - loss: 1.6222 - accuracy: 0.3566 - val_loss: 1.4683 - val_accuracy: 0.4308\n",
      "Epoch 3/100\n",
      "226/226 [==============================] - 683s 3s/step - loss: 1.4676 - accuracy: 0.4335 - val_loss: 1.3647 - val_accuracy: 0.4849\n",
      "Epoch 4/100\n",
      "226/226 [==============================] - 733s 3s/step - loss: 1.3900 - accuracy: 0.4659 - val_loss: 1.2787 - val_accuracy: 0.5190\n",
      "Epoch 5/100\n",
      "226/226 [==============================] - 984s 4s/step - loss: 1.3342 - accuracy: 0.4910 - val_loss: 1.2573 - val_accuracy: 0.5250\n",
      "Epoch 6/100\n",
      "226/226 [==============================] - 980s 4s/step - loss: 1.2853 - accuracy: 0.5083 - val_loss: 1.1925 - val_accuracy: 0.5505\n",
      "Epoch 7/100\n",
      "226/226 [==============================] - 981s 4s/step - loss: 1.2531 - accuracy: 0.5200 - val_loss: 1.1849 - val_accuracy: 0.5542\n",
      "Epoch 8/100\n",
      "226/226 [==============================] - 981s 4s/step - loss: 1.2186 - accuracy: 0.5364 - val_loss: 1.1666 - val_accuracy: 0.5645\n",
      "Epoch 9/100\n",
      "226/226 [==============================] - 976s 4s/step - loss: 1.1938 - accuracy: 0.5455 - val_loss: 1.1362 - val_accuracy: 0.5742\n",
      "Epoch 10/100\n",
      "226/226 [==============================] - 977s 4s/step - loss: 1.1671 - accuracy: 0.5554 - val_loss: 1.1300 - val_accuracy: 0.5776\n",
      "Epoch 11/100\n",
      "226/226 [==============================] - 976s 4s/step - loss: 1.1434 - accuracy: 0.5658 - val_loss: 1.1138 - val_accuracy: 0.5818\n",
      "Epoch 12/100\n",
      "226/226 [==============================] - 979s 4s/step - loss: 1.1171 - accuracy: 0.5741 - val_loss: 1.1098 - val_accuracy: 0.5817\n",
      "Epoch 13/100\n",
      "226/226 [==============================] - 979s 4s/step - loss: 1.1002 - accuracy: 0.5805 - val_loss: 1.1018 - val_accuracy: 0.5828\n",
      "Epoch 14/100\n",
      "226/226 [==============================] - 978s 4s/step - loss: 1.0823 - accuracy: 0.5892 - val_loss: 1.0937 - val_accuracy: 0.5879\n",
      "Epoch 15/100\n",
      "226/226 [==============================] - 977s 4s/step - loss: 1.0616 - accuracy: 0.5980 - val_loss: 1.0783 - val_accuracy: 0.5897\n",
      "Epoch 16/100\n",
      "226/226 [==============================] - 979s 4s/step - loss: 1.0456 - accuracy: 0.6028 - val_loss: 1.0801 - val_accuracy: 0.5999\n",
      "Epoch 17/100\n",
      "226/226 [==============================] - 977s 4s/step - loss: 1.0189 - accuracy: 0.6150 - val_loss: 1.0757 - val_accuracy: 0.5969\n",
      "Epoch 18/100\n",
      "226/226 [==============================] - 976s 4s/step - loss: 1.0095 - accuracy: 0.6167 - val_loss: 1.0749 - val_accuracy: 0.6020\n",
      "Epoch 19/100\n",
      "226/226 [==============================] - 978s 4s/step - loss: 0.9924 - accuracy: 0.6229 - val_loss: 1.0875 - val_accuracy: 0.5938\n",
      "Epoch 20/100\n",
      "226/226 [==============================] - 976s 4s/step - loss: 0.9813 - accuracy: 0.6311 - val_loss: 1.0722 - val_accuracy: 0.6040\n",
      "Epoch 21/100\n",
      "226/226 [==============================] - 979s 4s/step - loss: 0.9514 - accuracy: 0.6449 - val_loss: 1.0643 - val_accuracy: 0.6087\n",
      "Epoch 22/100\n",
      "226/226 [==============================] - 979s 4s/step - loss: 0.9357 - accuracy: 0.6471 - val_loss: 1.0680 - val_accuracy: 0.6053\n",
      "Epoch 23/100\n",
      "226/226 [==============================] - 984s 4s/step - loss: 0.9285 - accuracy: 0.6499 - val_loss: 1.0686 - val_accuracy: 0.6047\n",
      "Epoch 24/100\n",
      "226/226 [==============================] - 980s 4s/step - loss: 0.9146 - accuracy: 0.6588 - val_loss: 1.0707 - val_accuracy: 0.6022\n",
      "Epoch 25/100\n",
      "226/226 [==============================] - 981s 4s/step - loss: 0.9026 - accuracy: 0.6614 - val_loss: 1.0670 - val_accuracy: 0.6022\n",
      "Epoch 26/100\n",
      "226/226 [==============================] - 975s 4s/step - loss: 0.8889 - accuracy: 0.6666 - val_loss: 1.0644 - val_accuracy: 0.6039\n",
      "Epoch 27/100\n",
      "226/226 [==============================] - 977s 4s/step - loss: 0.8778 - accuracy: 0.6700 - val_loss: 1.0556 - val_accuracy: 0.6088\n",
      "Epoch 28/100\n",
      "226/226 [==============================] - 980s 4s/step - loss: 0.8561 - accuracy: 0.6825 - val_loss: 1.0735 - val_accuracy: 0.6064\n",
      "Epoch 29/100\n",
      "226/226 [==============================] - 979s 4s/step - loss: 0.8499 - accuracy: 0.6827 - val_loss: 1.0537 - val_accuracy: 0.6115\n",
      "Epoch 30/100\n",
      "226/226 [==============================] - 980s 4s/step - loss: 0.8352 - accuracy: 0.6895 - val_loss: 1.0798 - val_accuracy: 0.6104\n",
      "Epoch 31/100\n",
      "226/226 [==============================] - 975s 4s/step - loss: 0.8221 - accuracy: 0.6963 - val_loss: 1.0605 - val_accuracy: 0.6136\n",
      "Epoch 32/100\n",
      "226/226 [==============================] - 978s 4s/step - loss: 0.8099 - accuracy: 0.7032 - val_loss: 1.0708 - val_accuracy: 0.6112\n",
      "Epoch 33/100\n",
      "226/226 [==============================] - 979s 4s/step - loss: 0.7973 - accuracy: 0.7021 - val_loss: 1.0707 - val_accuracy: 0.6146\n",
      "Epoch 34/100\n",
      "226/226 [==============================] - 1034s 5s/step - loss: 0.7887 - accuracy: 0.7061 - val_loss: 1.0759 - val_accuracy: 0.6203\n",
      "Epoch 35/100\n",
      "226/226 [==============================] - 1036s 5s/step - loss: 0.7788 - accuracy: 0.7118 - val_loss: 1.0657 - val_accuracy: 0.6172\n",
      "Epoch 36/100\n",
      "226/226 [==============================] - 1036s 5s/step - loss: 0.7628 - accuracy: 0.7170 - val_loss: 1.0714 - val_accuracy: 0.6209\n",
      "Epoch 37/100\n",
      "226/226 [==============================] - 1037s 5s/step - loss: 0.7506 - accuracy: 0.7224 - val_loss: 1.0739 - val_accuracy: 0.6163\n",
      "Epoch 38/100\n",
      "226/226 [==============================] - 1038s 5s/step - loss: 0.7425 - accuracy: 0.7266 - val_loss: 1.0885 - val_accuracy: 0.6199\n",
      "Epoch 39/100\n",
      "226/226 [==============================] - 1034s 5s/step - loss: 0.7349 - accuracy: 0.7281 - val_loss: 1.0823 - val_accuracy: 0.6182\n",
      "Epoch 40/100\n",
      "226/226 [==============================] - 1035s 5s/step - loss: 0.7314 - accuracy: 0.7302 - val_loss: 1.0914 - val_accuracy: 0.6160\n",
      "Epoch 41/100\n",
      "226/226 [==============================] - 1031s 5s/step - loss: 0.7112 - accuracy: 0.7390 - val_loss: 1.0836 - val_accuracy: 0.6160\n",
      "Epoch 42/100\n",
      "226/226 [==============================] - 1036s 5s/step - loss: 0.7018 - accuracy: 0.7418 - val_loss: 1.0944 - val_accuracy: 0.6193\n",
      "Epoch 43/100\n",
      "226/226 [==============================] - 1036s 5s/step - loss: 0.6940 - accuracy: 0.7446 - val_loss: 1.0964 - val_accuracy: 0.6129\n",
      "Epoch 44/100\n",
      "226/226 [==============================] - 1036s 5s/step - loss: 0.6892 - accuracy: 0.7463 - val_loss: 1.0945 - val_accuracy: 0.6145\n",
      "Epoch 45/100\n",
      "226/226 [==============================] - 1037s 5s/step - loss: 0.6765 - accuracy: 0.7531 - val_loss: 1.0939 - val_accuracy: 0.6190\n",
      "Epoch 46/100\n",
      "226/226 [==============================] - 1032s 5s/step - loss: 0.6696 - accuracy: 0.7539 - val_loss: 1.0901 - val_accuracy: 0.6203\n",
      "Epoch 47/100\n",
      "226/226 [==============================] - 1031s 5s/step - loss: 0.6614 - accuracy: 0.7586 - val_loss: 1.1111 - val_accuracy: 0.6160\n",
      "Epoch 48/100\n",
      "226/226 [==============================] - 1038s 5s/step - loss: 0.6570 - accuracy: 0.7590 - val_loss: 1.0973 - val_accuracy: 0.6248\n",
      "Epoch 49/100\n",
      "226/226 [==============================] - 1034s 5s/step - loss: 0.6545 - accuracy: 0.7632 - val_loss: 1.0936 - val_accuracy: 0.6237\n",
      "Epoch 50/100\n",
      "226/226 [==============================] - 1039s 5s/step - loss: 0.6273 - accuracy: 0.7711 - val_loss: 1.0968 - val_accuracy: 0.6258\n",
      "Epoch 51/100\n",
      "226/226 [==============================] - 1027s 5s/step - loss: 0.6308 - accuracy: 0.7706 - val_loss: 1.1131 - val_accuracy: 0.6217\n",
      "Epoch 52/100\n",
      "226/226 [==============================] - 1031s 5s/step - loss: 0.6238 - accuracy: 0.7694 - val_loss: 1.1246 - val_accuracy: 0.6197\n",
      "Epoch 53/100\n",
      "226/226 [==============================] - 1034s 5s/step - loss: 0.6234 - accuracy: 0.7748 - val_loss: 1.1137 - val_accuracy: 0.6233\n",
      "Epoch 54/100\n",
      "226/226 [==============================] - 1031s 5s/step - loss: 0.5977 - accuracy: 0.7828 - val_loss: 1.1329 - val_accuracy: 0.6125\n",
      "Epoch 55/100\n",
      "226/226 [==============================] - 1036s 5s/step - loss: 0.5994 - accuracy: 0.7816 - val_loss: 1.1363 - val_accuracy: 0.6186\n",
      "Epoch 56/100\n",
      "226/226 [==============================] - 1031s 5s/step - loss: 0.5934 - accuracy: 0.7830 - val_loss: 1.1138 - val_accuracy: 0.6192\n",
      "Epoch 57/100\n",
      "226/226 [==============================] - 1030s 5s/step - loss: 0.5896 - accuracy: 0.7846 - val_loss: 1.1424 - val_accuracy: 0.6231\n",
      "Epoch 58/100\n",
      "226/226 [==============================] - 1032s 5s/step - loss: 0.5799 - accuracy: 0.7878 - val_loss: 1.1427 - val_accuracy: 0.6245\n",
      "Epoch 59/100\n",
      "226/226 [==============================] - 1037s 5s/step - loss: 0.5706 - accuracy: 0.7932 - val_loss: 1.1384 - val_accuracy: 0.6210\n",
      "Epoch 60/100\n",
      "226/226 [==============================] - 1033s 5s/step - loss: 0.5706 - accuracy: 0.7941 - val_loss: 1.1344 - val_accuracy: 0.6213\n",
      "Epoch 61/100\n",
      "226/226 [==============================] - 1032s 5s/step - loss: 0.5691 - accuracy: 0.7960 - val_loss: 1.1369 - val_accuracy: 0.6227\n",
      "Epoch 62/100\n",
      "226/226 [==============================] - 1029s 5s/step - loss: 0.5617 - accuracy: 0.7980 - val_loss: 1.1378 - val_accuracy: 0.6163\n",
      "Epoch 63/100\n",
      "226/226 [==============================] - 1023s 5s/step - loss: 0.5558 - accuracy: 0.7998 - val_loss: 1.1521 - val_accuracy: 0.6228\n",
      "Epoch 64/100\n",
      "226/226 [==============================] - 1032s 5s/step - loss: 0.5458 - accuracy: 0.8019 - val_loss: 1.1448 - val_accuracy: 0.6166\n",
      "Epoch 65/100\n",
      "226/226 [==============================] - 1034s 5s/step - loss: 0.5533 - accuracy: 0.7994 - val_loss: 1.1583 - val_accuracy: 0.6199\n",
      "Epoch 66/100\n",
      "226/226 [==============================] - 1043s 5s/step - loss: 0.5362 - accuracy: 0.8059 - val_loss: 1.1607 - val_accuracy: 0.6145\n",
      "Epoch 67/100\n",
      "226/226 [==============================] - 1034s 5s/step - loss: 0.5374 - accuracy: 0.8046 - val_loss: 1.1535 - val_accuracy: 0.6173\n",
      "Epoch 68/100\n",
      "226/226 [==============================] - 1035s 5s/step - loss: 0.5211 - accuracy: 0.8103 - val_loss: 1.1497 - val_accuracy: 0.6211\n",
      "Epoch 69/100\n",
      "226/226 [==============================] - 1041s 5s/step - loss: 0.5236 - accuracy: 0.8109 - val_loss: 1.1659 - val_accuracy: 0.6237\n",
      "Epoch 70/100\n",
      "226/226 [==============================] - 1034s 5s/step - loss: 0.5113 - accuracy: 0.8167 - val_loss: 1.1813 - val_accuracy: 0.6135\n",
      "Epoch 71/100\n",
      "226/226 [==============================] - 1032s 5s/step - loss: 0.5103 - accuracy: 0.8163 - val_loss: 1.1827 - val_accuracy: 0.6193\n",
      "Epoch 72/100\n",
      "226/226 [==============================] - 1040s 5s/step - loss: 0.5045 - accuracy: 0.8183 - val_loss: 1.1690 - val_accuracy: 0.6172\n",
      "Epoch 73/100\n",
      "226/226 [==============================] - 1033s 5s/step - loss: 0.5088 - accuracy: 0.8201 - val_loss: 1.1609 - val_accuracy: 0.6199\n",
      "Epoch 74/100\n",
      "226/226 [==============================] - 1034s 5s/step - loss: 0.4973 - accuracy: 0.8215 - val_loss: 1.1871 - val_accuracy: 0.6189\n",
      "Epoch 75/100\n",
      "226/226 [==============================] - 1032s 5s/step - loss: 0.4954 - accuracy: 0.8204 - val_loss: 1.1850 - val_accuracy: 0.6233\n",
      "Epoch 76/100\n",
      "226/226 [==============================] - 1033s 5s/step - loss: 0.4955 - accuracy: 0.8221 - val_loss: 1.1678 - val_accuracy: 0.6196\n",
      "Epoch 77/100\n",
      "226/226 [==============================] - 1029s 5s/step - loss: 0.4859 - accuracy: 0.8251 - val_loss: 1.1802 - val_accuracy: 0.6193\n",
      "Epoch 78/100\n",
      "226/226 [==============================] - 1026s 5s/step - loss: 0.4776 - accuracy: 0.8300 - val_loss: 1.1926 - val_accuracy: 0.6227\n",
      "Epoch 79/100\n",
      "226/226 [==============================] - 1033s 5s/step - loss: 0.4763 - accuracy: 0.8301 - val_loss: 1.1932 - val_accuracy: 0.6200\n",
      "Epoch 80/100\n",
      "226/226 [==============================] - 1029s 5s/step - loss: 0.4736 - accuracy: 0.8302 - val_loss: 1.1838 - val_accuracy: 0.6214\n",
      "Epoch 81/100\n",
      "226/226 [==============================] - 1031s 5s/step - loss: 0.4618 - accuracy: 0.8344 - val_loss: 1.2245 - val_accuracy: 0.6168\n",
      "Epoch 82/100\n",
      "226/226 [==============================] - 1029s 5s/step - loss: 0.4698 - accuracy: 0.8314 - val_loss: 1.2015 - val_accuracy: 0.6220\n",
      "Epoch 83/100\n",
      "226/226 [==============================] - 1030s 5s/step - loss: 0.4572 - accuracy: 0.8371 - val_loss: 1.1977 - val_accuracy: 0.6227\n",
      "Epoch 84/100\n",
      "226/226 [==============================] - 1032s 5s/step - loss: 0.4676 - accuracy: 0.8349 - val_loss: 1.1933 - val_accuracy: 0.6282\n",
      "Epoch 85/100\n",
      "226/226 [==============================] - 1037s 5s/step - loss: 0.4498 - accuracy: 0.8401 - val_loss: 1.1912 - val_accuracy: 0.6227\n",
      "Epoch 86/100\n",
      "226/226 [==============================] - 1035s 5s/step - loss: 0.4505 - accuracy: 0.8400 - val_loss: 1.1746 - val_accuracy: 0.6286\n",
      "Epoch 87/100\n",
      "226/226 [==============================] - 1032s 5s/step - loss: 0.4405 - accuracy: 0.8437 - val_loss: 1.2040 - val_accuracy: 0.6241\n",
      "Epoch 88/100\n",
      "226/226 [==============================] - 1035s 5s/step - loss: 0.4434 - accuracy: 0.8427 - val_loss: 1.2168 - val_accuracy: 0.6183\n",
      "Epoch 89/100\n",
      "226/226 [==============================] - 1034s 5s/step - loss: 0.4423 - accuracy: 0.8403 - val_loss: 1.2104 - val_accuracy: 0.6211\n",
      "Epoch 90/100\n",
      "226/226 [==============================] - 1037s 5s/step - loss: 0.4225 - accuracy: 0.8518 - val_loss: 1.2260 - val_accuracy: 0.6182\n",
      "Epoch 91/100\n",
      "226/226 [==============================] - 1036s 5s/step - loss: 0.4320 - accuracy: 0.8478 - val_loss: 1.1961 - val_accuracy: 0.6238\n",
      "Epoch 92/100\n",
      "226/226 [==============================] - 1039s 5s/step - loss: 0.4213 - accuracy: 0.8502 - val_loss: 1.2235 - val_accuracy: 0.6291\n",
      "Epoch 93/100\n",
      "226/226 [==============================] - 1035s 5s/step - loss: 0.4193 - accuracy: 0.8530 - val_loss: 1.2070 - val_accuracy: 0.6254\n",
      "Epoch 94/100\n",
      "226/226 [==============================] - 1037s 5s/step - loss: 0.4337 - accuracy: 0.8452 - val_loss: 1.2006 - val_accuracy: 0.6251\n",
      "Epoch 95/100\n",
      "226/226 [==============================] - 1032s 5s/step - loss: 0.4162 - accuracy: 0.8510 - val_loss: 1.2118 - val_accuracy: 0.6220\n",
      "Epoch 96/100\n",
      "226/226 [==============================] - 1033s 5s/step - loss: 0.4230 - accuracy: 0.8505 - val_loss: 1.2014 - val_accuracy: 0.6274\n",
      "Epoch 97/100\n",
      "226/226 [==============================] - 1073s 5s/step - loss: 0.4081 - accuracy: 0.8554 - val_loss: 1.2292 - val_accuracy: 0.6267\n",
      "Epoch 98/100\n",
      "226/226 [==============================] - 1034s 5s/step - loss: 0.4124 - accuracy: 0.8537 - val_loss: 1.1996 - val_accuracy: 0.6275\n",
      "Epoch 99/100\n",
      "226/226 [==============================] - 443s 2s/step - loss: 0.4138 - accuracy: 0.8540 - val_loss: 1.2100 - val_accuracy: 0.6258\n",
      "Epoch 100/100\n",
      "226/226 [==============================] - 357s 2s/step - loss: 0.4050 - accuracy: 0.8590 - val_loss: 1.2318 - val_accuracy: 0.6216\n"
     ]
    },
    {
     "data": {
      "text/plain": [
       "<keras.src.callbacks.History at 0x151301a0a50>"
      ]
     },
     "execution_count": 19,
     "metadata": {},
     "output_type": "execute_result"
    }
   ],
   "source": [
    "model.fit(x= x_train,y = y_train, batch_size = 128, epochs = 100, validation_data = (x_test,y_test)) "
   ]
  },
  {
   "cell_type": "code",
   "execution_count": 20,
   "id": "2b0f1923",
   "metadata": {},
   "outputs": [
    {
     "name": "stderr",
     "output_type": "stream",
     "text": [
      "c:\\Users\\NIT\\AppData\\Local\\Programs\\Python\\Python311\\Lib\\site-packages\\keras\\src\\engine\\training.py:3079: UserWarning: You are saving your model as an HDF5 file via `model.save()`. This file format is considered legacy. We recommend using instead the native Keras format, e.g. `model.save('my_model.keras')`.\n",
      "  saving_api.save_model(\n"
     ]
    }
   ],
   "source": [
    "model_json = model.to_json()\n",
    "with open(\"emotiondetector.json\",'w') as json_file:\n",
    "    json_file.write(model_json)\n",
    "model.save(\"emotiondetector.h5\")"
   ]
  },
  {
   "cell_type": "code",
   "execution_count": 21,
   "id": "46e2098e",
   "metadata": {},
   "outputs": [],
   "source": [
    "from keras.models import model_from_json"
   ]
  },
  {
   "cell_type": "code",
   "execution_count": 23,
   "id": "90703547",
   "metadata": {},
   "outputs": [],
   "source": [
    "json_file = open(\"emotiondetector.json\", \"r\")\n",
    "model_json = json_file.read()\n",
    "json_file.close()\n",
    "model = model_from_json(model_json)\n",
    "model.load_weights(\"emotiondetector.h5\")"
   ]
  },
  {
   "cell_type": "code",
   "execution_count": 24,
   "id": "3932bbe8",
   "metadata": {},
   "outputs": [],
   "source": [
    "label = ['angry','disgust','fear','happy','neutral','sad','surprise']"
   ]
  },
  {
   "cell_type": "code",
   "execution_count": 25,
   "id": "b0ccbacf",
   "metadata": {},
   "outputs": [],
   "source": [
    "def ef(image):\n",
    "    img = load_img(image,grayscale =  True )\n",
    "    feature = np.array(img)\n",
    "    feature = feature.reshape(1,48,48,1)\n",
    "    return feature/255.0"
   ]
  },
  {
   "cell_type": "code",
   "execution_count": 26,
   "id": "5882c78e",
   "metadata": {},
   "outputs": [
    {
     "name": "stdout",
     "output_type": "stream",
     "text": [
      "original image is of sad\n"
     ]
    },
    {
     "name": "stderr",
     "output_type": "stream",
     "text": [
      "c:\\Users\\NIT\\AppData\\Local\\Programs\\Python\\Python311\\Lib\\site-packages\\keras_preprocessing\\image\\utils.py:107: UserWarning: grayscale is deprecated. Please use color_mode = \"grayscale\"\n",
      "  warnings.warn('grayscale is deprecated. Please use '\n"
     ]
    },
    {
     "name": "stdout",
     "output_type": "stream",
     "text": [
      "1/1 [==============================] - 0s 123ms/step\n",
      "model prediction is  sad\n"
     ]
    }
   ],
   "source": [
    "image = 'images/train/sad/42.jpg'\n",
    "print(\"original image is of sad\")\n",
    "img = ef(image)\n",
    "pred = model.predict(img)\n",
    "pred_label = label[pred.argmax()]\n",
    "print(\"model prediction is \",pred_label)"
   ]
  },
  {
   "cell_type": "code",
   "execution_count": null,
   "id": "8994206c",
   "metadata": {},
   "outputs": [],
   "source": [
    "import matplotlib.pyplot as plt\n",
    "%matplotlib inline"
   ]
  },
  {
   "cell_type": "code",
   "execution_count": 27,
   "id": "c83af9e1",
   "metadata": {},
   "outputs": [
    {
     "name": "stdout",
     "output_type": "stream",
     "text": [
      "original image is of sad\n",
      "1/1 [==============================] - 0s 23ms/step\n",
      "model prediction is  sad\n"
     ]
    },
    {
     "ename": "NameError",
     "evalue": "name 'plt' is not defined",
     "output_type": "error",
     "traceback": [
      "\u001b[1;31m---------------------------------------------------------------------------\u001b[0m",
      "\u001b[1;31mNameError\u001b[0m                                 Traceback (most recent call last)",
      "\u001b[1;32mc:\\Users\\NIT\\Desktop\\ED_2\\trainmodel.ipynb Cell 27\u001b[0m line \u001b[0;36m7\n\u001b[0;32m      <a href='vscode-notebook-cell:/c%3A/Users/NIT/Desktop/ED_2/trainmodel.ipynb#X35sZmlsZQ%3D%3D?line=4'>5</a>\u001b[0m pred_label \u001b[39m=\u001b[39m label[pred\u001b[39m.\u001b[39margmax()]\n\u001b[0;32m      <a href='vscode-notebook-cell:/c%3A/Users/NIT/Desktop/ED_2/trainmodel.ipynb#X35sZmlsZQ%3D%3D?line=5'>6</a>\u001b[0m \u001b[39mprint\u001b[39m(\u001b[39m\"\u001b[39m\u001b[39mmodel prediction is \u001b[39m\u001b[39m\"\u001b[39m,pred_label)\n\u001b[1;32m----> <a href='vscode-notebook-cell:/c%3A/Users/NIT/Desktop/ED_2/trainmodel.ipynb#X35sZmlsZQ%3D%3D?line=6'>7</a>\u001b[0m plt\u001b[39m.\u001b[39mimshow(img\u001b[39m.\u001b[39mreshape(\u001b[39m48\u001b[39m,\u001b[39m48\u001b[39m),cmap\u001b[39m=\u001b[39m\u001b[39m'\u001b[39m\u001b[39mgray\u001b[39m\u001b[39m'\u001b[39m)\n",
      "\u001b[1;31mNameError\u001b[0m: name 'plt' is not defined"
     ]
    }
   ],
   "source": [
    "image = 'images/train/sad/42.jpg'\n",
    "print(\"original image is of sad\")\n",
    "img = ef(image)\n",
    "pred = model.predict(img)\n",
    "pred_label = label[pred.argmax()]\n",
    "print(\"model prediction is \",pred_label)\n",
    "plt.imshow(img.reshape(48,48),cmap='gray')"
   ]
  },
  {
   "cell_type": "code",
   "execution_count": null,
   "id": "5adb7b7a",
   "metadata": {},
   "outputs": [],
   "source": [
    "image = 'images/train/fear/2.jpg'\n",
    "print(\"original image is of fear\")\n",
    "img = ef(image)\n",
    "pred = model.predict(img)\n",
    "pred_label = label[pred.argmax()]\n",
    "print(\"model prediction is \",pred_label)\n",
    "plt.imshow(img.reshape(48,48),cmap='gray')"
   ]
  },
  {
   "cell_type": "code",
   "execution_count": null,
   "id": "e5ea96ba",
   "metadata": {},
   "outputs": [],
   "source": [
    "image = 'images/train/disgust/299.jpg'\n",
    "print(\"original image is of disgust\")\n",
    "img = ef(image)\n",
    "pred = model.predict(img)\n",
    "pred_label = label[pred.argmax()]\n",
    "print(\"model prediction is \",pred_label)\n",
    "plt.imshow(img.reshape(48,48),cmap='gray')"
   ]
  },
  {
   "cell_type": "code",
   "execution_count": null,
   "id": "1c4befa7",
   "metadata": {},
   "outputs": [],
   "source": [
    "image = 'images/train/happy/7.jpg'\n",
    "print(\"original image is of happy\")\n",
    "img = ef(image)\n",
    "pred = model.predict(img)\n",
    "pred_label = label[pred.argmax()]\n",
    "print(\"model prediction is \",pred_label)\n",
    "plt.imshow(img.reshape(48,48),cmap='gray')"
   ]
  },
  {
   "cell_type": "code",
   "execution_count": null,
   "id": "8d6bb2fa",
   "metadata": {},
   "outputs": [],
   "source": [
    "image = 'images/train/surprise/15.jpg'\n",
    "print(\"original image is of surprise\")\n",
    "img = ef(image)\n",
    "pred = model.predict(img)\n",
    "pred_label = label[pred.argmax()]\n",
    "print(\"model prediction is \",pred_label)\n",
    "plt.imshow(img.reshape(48,48),cmap='gray')"
   ]
  }
 ],
 "metadata": {
  "kernelspec": {
   "display_name": "Python 3 (ipykernel)",
   "language": "python",
   "name": "python3"
  },
  "language_info": {
   "codemirror_mode": {
    "name": "ipython",
    "version": 3
   },
   "file_extension": ".py",
   "mimetype": "text/x-python",
   "name": "python",
   "nbconvert_exporter": "python",
   "pygments_lexer": "ipython3",
   "version": "3.11.4"
  }
 },
 "nbformat": 4,
 "nbformat_minor": 5
}
